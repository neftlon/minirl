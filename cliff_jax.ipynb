{
 "cells": [
  {
   "cell_type": "code",
   "execution_count": 1,
   "metadata": {},
   "outputs": [],
   "source": [
    "%load_ext autoreload\n",
    "%autoreload 2"
   ]
  },
  {
   "cell_type": "code",
   "execution_count": 29,
   "metadata": {},
   "outputs": [],
   "source": [
    "from cliff_jax import Cliff"
   ]
  },
  {
   "cell_type": "code",
   "execution_count": 30,
   "metadata": {},
   "outputs": [],
   "source": [
    "env = Cliff.full()"
   ]
  },
  {
   "cell_type": "code",
   "execution_count": 33,
   "metadata": {},
   "outputs": [
    {
     "data": {
      "text/plain": [
       "(InternalState(state=Array(8, dtype=int32), step=Array(1, dtype=int32, weak_type=True)),\n",
       " Array(-1, dtype=int32, weak_type=True),\n",
       " Array(False, dtype=bool))"
      ]
     },
     "execution_count": 33,
     "metadata": {},
     "output_type": "execute_result"
    }
   ],
   "source": [
    "env.step(Cliff.InternalState(16, 0), 0)"
   ]
  },
  {
   "cell_type": "code",
   "execution_count": 34,
   "metadata": {},
   "outputs": [
    {
     "data": {
      "text/plain": [
       "Array(16, dtype=int32)"
      ]
     },
     "execution_count": 34,
     "metadata": {},
     "output_type": "execute_result"
    }
   ],
   "source": [
    "internal_state = env.reset()\n",
    "env.observe(internal_state)"
   ]
  },
  {
   "cell_type": "code",
   "execution_count": 35,
   "metadata": {},
   "outputs": [
    {
     "data": {
      "text/plain": [
       "(InternalState(state=Array(16, dtype=int32), step=Array(1, dtype=int32, weak_type=True)),\n",
       " Array(-1, dtype=int32, weak_type=True),\n",
       " Array(False, dtype=bool))"
      ]
     },
     "execution_count": 35,
     "metadata": {},
     "output_type": "execute_result"
    }
   ],
   "source": [
    "env.step(internal_state, 1)"
   ]
  },
  {
   "cell_type": "code",
   "execution_count": 36,
   "metadata": {},
   "outputs": [],
   "source": [
    "import typing\n",
    "import jax, jax.numpy as jnp, jax.random as jr\n",
    "key = jr.key(0)\n",
    "\n",
    "class Embedding(typing.NamedTuple):\n",
    "  num_emb: int\n",
    "  emb_dim: int\n",
    "\n",
    "  def __call__(self, params, _key, x):\n",
    "    return params[x]\n",
    "  \n",
    "  def logp(self, params, x, y):\n",
    "    logits = self(params, ..., x)\n",
    "    return jax.nn.log_softmax(logits)[y]\n",
    "\n",
    "  def init(self, key):\n",
    "    return jr.normal(key, (self.num_emb, self.emb_dim))"
   ]
  },
  {
   "cell_type": "code",
   "execution_count": 37,
   "metadata": {},
   "outputs": [],
   "source": [
    "class EpsGreedy(typing.NamedTuple):\n",
    "  model: typing.Any\n",
    "  num_actions: int\n",
    "  eps: float = .1\n",
    "\n",
    "  def __call__(self, params, key, *args):\n",
    "    key, eps_key = jr.split(key)\n",
    "    # use cond to run the model only when it's necessary\n",
    "    return jax.lax.cond(\n",
    "      jr.uniform(eps_key) >= self.eps,\n",
    "      # take model's prediction (greedy)\n",
    "      lambda: self.model(params, key, *args).argmax(axis=-1),\n",
    "      # select a random action\n",
    "      lambda: jr.choice(key, self.num_actions),\n",
    "    )\n",
    "  \n",
    "  def logp(self, params, x, y):\n",
    "    return jnp.log(self.eps / self.num_actions + (1 - self.eps) * jnp.exp(self.model.logp(params, x, y)))\n",
    "\n",
    "  def init(self, key):\n",
    "    return self.model.init(key)"
   ]
  },
  {
   "cell_type": "code",
   "execution_count": 38,
   "metadata": {},
   "outputs": [],
   "source": [
    "class Buf(typing.NamedTuple):\n",
    "  max_num_eps: int\n",
    "  max_episode_len: int\n",
    "\n",
    "  class State(typing.NamedTuple):\n",
    "    offset: jax.Array # int, current location in the buffer\n",
    "    num_eps: jax.Array # int, number of episodes that is contained in this buffer\n",
    "    ep_ends: jax.Array # end markers for episodes in the buffer (exclusive)\n",
    "    observations: typing.Any\n",
    "    actions: typing.Any\n",
    "    rewards: typing.Any\n",
    "\n",
    "    @property\n",
    "    def ep_starts(self) -> jax.Array:\n",
    "      starts = jnp.zeros_like(self.ep_ends)\n",
    "      return starts.at[1:].set(self.ep_ends[:-1])\n",
    "    \n",
    "    @property\n",
    "    def buf_size(self) -> int:\n",
    "      return len(self.observations)\n",
    "\n",
    "    def reset(self) -> \"Buf.State\":\n",
    "      return Buf.State(\n",
    "        offset=jnp.asarray(0),\n",
    "        num_eps=jnp.asarray(0),\n",
    "        ep_ends=self.ep_ends,\n",
    "        observations=self.observations,\n",
    "        actions=self.actions,\n",
    "        rewards=self.rewards,\n",
    "      )\n",
    "  \n",
    "  def can_append_episode(self, state: \"State\") -> bool:\n",
    "    free = state.buf_size - state.offset\n",
    "    return (state.num_eps < self.max_num_eps) & (free >= self.max_episode_len)\n",
    "\n",
    "  def append(self, state: \"State\", obs, action, reward) -> \"State\":\n",
    "    newoffset = state.offset + 1\n",
    "    in_bounds = newoffset < len(state.observations)\n",
    "    return Buf.State(\n",
    "      offset=jnp.where(in_bounds, newoffset, state.offset),\n",
    "      num_eps=state.num_eps,\n",
    "      ep_ends=state.ep_ends,\n",
    "      observations=jnp.where(in_bounds, state.observations.at[state.offset].set(obs), state.observations),\n",
    "      actions=jnp.where(in_bounds, state.actions.at[state.offset].set(action), state.actions),\n",
    "      rewards=jnp.where(in_bounds, state.rewards.at[state.offset].set(reward), state.rewards),\n",
    "    )\n",
    "\n",
    "  def end_episode(self, state: \"State\") -> \"State\":\n",
    "    # Safety: calling can_append_episode before appending/ending an episode ensures that there is enough space\n",
    "    return Buf.State(\n",
    "      offset=state.offset,\n",
    "      num_eps=state.num_eps + 1,\n",
    "      ep_ends=state.ep_ends.at[state.num_eps].set(state.offset),\n",
    "      observations=state.observations,\n",
    "      actions=state.actions,\n",
    "      rewards=state.rewards,\n",
    "    )\n",
    "  \n",
    "  def empty(self, buf_size: typing.Optional[int] = None) -> \"State\":\n",
    "    if buf_size is None:\n",
    "      buf_size = self.max_num_eps * self.max_episode_len\n",
    "    return Buf.State(\n",
    "      offset=jnp.asarray(0),\n",
    "      num_eps=jnp.asarray(0),\n",
    "      ep_ends=jnp.zeros(self.max_num_eps, dtype=int),\n",
    "      observations=jnp.zeros(buf_size, dtype=int),\n",
    "      actions=jnp.zeros(buf_size, dtype=int),\n",
    "      rewards=jnp.zeros(buf_size),\n",
    "    )"
   ]
  },
  {
   "cell_type": "code",
   "execution_count": 39,
   "metadata": {},
   "outputs": [],
   "source": [
    "action_tab = Embedding(24, 4)\n",
    "eps_greedy = EpsGreedy(action_tab, 4)"
   ]
  },
  {
   "cell_type": "code",
   "execution_count": 40,
   "metadata": {},
   "outputs": [],
   "source": [
    "def run_episode(key, params, buf: Buf, buf_state: Buf.State, env: Cliff) -> Buf.State:\n",
    "  \"Run one episode of `env` and store the results in `buf`/`buf_state`.\"\n",
    "  model = eps_greedy # TODO: pass this into the function\n",
    "\n",
    "  class LoopState(typing.NamedTuple):\n",
    "    key: jax.Array\n",
    "    env_state: Cliff.InternalState\n",
    "    buf_state: Buf.State\n",
    "    done: jax.Array # bool\n",
    "\n",
    "  def cond(state: LoopState):\n",
    "    return ~state.done\n",
    "  \n",
    "  def body(state: LoopState):\n",
    "    obs = env.observe(state.env_state)\n",
    "    key, action_key = jr.split(state.key)\n",
    "    action = model(params, action_key, obs)\n",
    "    env_state, reward, done = env.step(state.env_state, action)\n",
    "    buf_state = buf.append(state.buf_state, obs, action, reward)\n",
    "    return LoopState(\n",
    "      key=key,\n",
    "      env_state=env_state,\n",
    "      buf_state=buf_state,\n",
    "      done=done,\n",
    "    )\n",
    "\n",
    "  state = LoopState(\n",
    "    key=key,\n",
    "    env_state=env.reset(),\n",
    "    buf_state=buf_state,\n",
    "    done=jnp.asarray(False),\n",
    "  )\n",
    "  state = jax.lax.while_loop(cond, body, state)\n",
    "  buf_state = buf.end_episode(state.buf_state) # finalize episode\n",
    "  return buf_state\n",
    "\n",
    "@jax.jit\n",
    "def fill_buffer(key, params, buf: Buf, buf_state: Buf.State, env: Cliff) -> Buf.State:\n",
    "  \"Run episodes until `buf`/`buf_state` cannot store another episode.\"\n",
    "  class LoopState(typing.NamedTuple):\n",
    "    key: jax.Array\n",
    "    buf_state: Buf.State\n",
    "\n",
    "  def cond(state: LoopState):\n",
    "    return buf.can_append_episode(state.buf_state)\n",
    "  \n",
    "  def body(state: LoopState):\n",
    "    key, run_key = jr.split(state.key)\n",
    "    buf_state = run_episode(run_key, params, buf, state.buf_state, env)\n",
    "    return LoopState(key, buf_state)\n",
    "\n",
    "  state = LoopState(key, buf_state)\n",
    "  state = jax.lax.while_loop(cond, body, state)\n",
    "  return state.buf_state"
   ]
  },
  {
   "cell_type": "code",
   "execution_count": 41,
   "metadata": {},
   "outputs": [],
   "source": [
    "def reduce_episodes(fn, carry_init, buf_state: Buf.State):\n",
    "  class LoopState(typing.NamedTuple):\n",
    "    carry: typing.Any\n",
    "    epidx: jax.Array # int\n",
    "\n",
    "  def body(offset: int, state: LoopState):\n",
    "    not_done = offset < buf_state.offset # buf's current level is not reached yet\n",
    "    next_offset_overflow = (offset + 1) >= buf_state.ep_ends[state.epidx] # increase eps idx preventive\n",
    "    return LoopState(\n",
    "      carry=jnp.where(not_done, fn(buf_state, state.epidx, offset, state.carry), state.carry),\n",
    "      epidx=jnp.where(not_done & next_offset_overflow, state.epidx + 1, state.epidx)\n",
    "    )\n",
    "  \n",
    "  state = LoopState(carry_init, jnp.asarray(0))\n",
    "  state = jax.lax.fori_loop(0, buf_state.buf_size, body, state)\n",
    "  return state.carry"
   ]
  },
  {
   "cell_type": "code",
   "execution_count": 58,
   "metadata": {},
   "outputs": [],
   "source": [
    "# compute sum of rewards for each episode\n",
    "def accumulate_rewards(buf_state, ep_idx, offset, ep_rew):\n",
    "  reward = buf_state.rewards[offset]\n",
    "  return ep_rew.at[ep_idx].set(ep_rew[ep_idx] + reward)\n",
    "\n",
    "def get_episode_reward(buf: Buf, buf_state: Buf.State):\n",
    "  \"Returns cumulative reward for each episode\"\n",
    "  return reduce_episodes(accumulate_rewards, jnp.zeros(buf.max_num_eps), buf_state)\n",
    "\n",
    "import functools\n",
    "@functools.partial(jax.jit, static_argnames=\"buf\")\n",
    "def expected_reward(params, buf: Buf, buf_state: Buf.State) -> jax.Array:\n",
    "  model = eps_greedy # TODO: pass this into the function\n",
    "\n",
    "  # compute sum of logps for each episode\n",
    "  def accumulate_logps(buf_state: Buf.State, ep_idx, offset, logps):\n",
    "    obs, act = buf_state.observations[offset], buf_state.actions[offset]\n",
    "    logp = model.logp(params, obs, act) # compute \\pi(s_t\\vert a_t)\n",
    "    return logps.at[ep_idx].set(logps[ep_idx] + logp)\n",
    "    \n",
    "  weights = get_episode_reward(buf, buf_state)\n",
    "  logps = reduce_episodes(accumulate_logps, jnp.zeros(buf.max_num_eps), buf_state)\n",
    "  # weight logps and compute average to approximate E[J(\\pi)] over all episodes\n",
    "  return jnp.sum(weights * logps) / buf_state.num_eps"
   ]
  },
  {
   "cell_type": "code",
   "execution_count": 70,
   "metadata": {},
   "outputs": [],
   "source": [
    "# initialize model parameters\n",
    "key, model_key = jr.split(key)\n",
    "params_init = eps_greedy.init(model_key)\n",
    "params = params_init\n",
    "\n",
    "# create trajectory buffer\n",
    "buf = Buf(20, env.max_steps)\n",
    "buf_state = buf.empty(buf_size=200)"
   ]
  },
  {
   "cell_type": "code",
   "execution_count": 71,
   "metadata": {},
   "outputs": [
    {
     "name": "stderr",
     "output_type": "stream",
     "text": [
      "  0%|          | 0/5000 [00:00<?, ?it/s]"
     ]
    },
    {
     "name": "stderr",
     "output_type": "stream",
     "text": [
      "num_eps=  15 erew=-164.02: 100%|██████████| 5000/5000 [01:39<00:00, 50.11it/s]\n"
     ]
    }
   ],
   "source": [
    "from tqdm import trange\n",
    "for _ in (pbar := trange(5000)):\n",
    "    # generate trajectories\n",
    "    buf_state = buf_state.reset() # reset buffer instead of always reallocating\n",
    "    key, ep_key = jr.split(key)\n",
    "    buf_state = fill_buffer(ep_key, params, buf, buf_state, env)\n",
    "\n",
    "    # compute gradients and update model using gradient ascent\n",
    "    expected_reward_val, grads = jax.value_and_grad(expected_reward)(params, buf, buf_state)\n",
    "    params = jax.tree_util.tree_map(lambda p, g: p + 1e-3 * g, params, grads)\n",
    "\n",
    "    # bookkeeping\n",
    "    num_eps = buf_state.num_eps.item()\n",
    "    pbar.set_description(f\"{num_eps=:4d} erew={expected_reward_val.item():7.02f}\")"
   ]
  },
  {
   "cell_type": "code",
   "execution_count": 73,
   "metadata": {},
   "outputs": [
    {
     "data": {
      "image/png": "[encoded data removed]",
      "text/plain": [
       "<Figure size 800x300 with 2 Axes>"
      ]
     },
     "metadata": {},
     "output_type": "display_data"
    }
   ],
   "source": [
    "import matplotlib.pyplot as plt\n",
    "plt.figure(figsize=(8,3))\n",
    "plt.subplot(2,1,1)\n",
    "plt.title(\"random parameters\")\n",
    "plt.yticks(range(4), [*env.ACTION2CHAR.values()])\n",
    "plt.imshow(jax.nn.softmax(params_init).T)\n",
    "plt.subplot(2,1,2)\n",
    "plt.title(\"trained parameters\")\n",
    "plt.yticks(range(4), [*env.ACTION2CHAR.values()])\n",
    "plt.imshow(jax.nn.softmax(params).T)\n",
    "plt.tight_layout();"
   ]
  },
  {
   "cell_type": "code",
   "execution_count": null,
   "metadata": {},
   "outputs": [],
   "source": []
  }
 ],
 "metadata": {
  "kernelspec": {
   "display_name": "expjax",
   "language": "python",
   "name": "python3"
  },
  "language_info": {
   "codemirror_mode": {
    "name": "ipython",
    "version": 3
   },
   "file_extension": ".py",
   "mimetype": "text/x-python",
   "name": "python",
   "nbconvert_exporter": "python",
   "pygments_lexer": "ipython3",
   "version": "3.12.1"
  }
 },
 "nbformat": 4,
 "nbformat_minor": 2
}
